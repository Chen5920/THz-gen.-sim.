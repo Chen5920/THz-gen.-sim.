{
 "cells": [
  {
   "cell_type": "code",
   "execution_count": 1,
   "metadata": {
    "collapsed": true
   },
   "outputs": [],
   "source": [
    "%matplotlib inline\n",
    "%load_ext cython\n",
    "\n",
    "import numpy as np\n",
    "import matplotlib.pyplot as plt\n",
    "import time"
   ]
  },
  {
   "cell_type": "code",
   "execution_count": 2,
   "metadata": {
    "collapsed": true
   },
   "outputs": [],
   "source": [
    "%%cython\n",
    "import numpy as np\n",
    "def pNL_THz(Eopt):\n",
    "    cdef int size=Eopt.size\n",
    "    cdef float[1000] pNL=np.zeros(size)\n",
    "    pNL[0]=2*np.float(np.dot(Eopt,Eopt))\n",
    "    for i in range(1,size):\n",
    "        pNL[i]=2*np.float(np.dot(Eopt[:-i],Eopt[i:]))\n",
    "    return pNL"
   ]
  },
  {
   "cell_type": "code",
   "execution_count": 3,
   "metadata": {
    "collapsed": false
   },
   "outputs": [
    {
     "name": "stdout",
     "output_type": "stream",
     "text": [
      "0.5773921012878418\n"
     ]
    }
   ],
   "source": [
    "\"\"\" Some  constants\"\"\"\n",
    "pi = np.pi\n",
    "c = 0.3\n",
    "deff = 168 #pm/V\n",
    "miu0 = 4*pi*1e-2 # miu0 * epsilon0 = c^2\n",
    "epsilon0 = c**2/miu0 # F/mm\n",
    "n_group = 2.3585\n",
    "bandwidth = 2e-6 # mm\n",
    "center_wavelength = 800e-6\n",
    "gamma = 62*pi/180\n",
    "\n",
    "\"\"\" Define frequency range \"\"\"\n",
    "OTHz = 0.1*2*pi\n",
    "THzMax=50\n",
    "size = 1000\n",
    "num = 1000\n",
    "\n",
    "omega0 = c*2*pi/center_wavelength\n",
    "w = c*2*pi/(center_wavelength-bandwidth/2)-c*2*pi/(center_wavelength+bandwidth/2)\n",
    "omega = np.linspace(omega0-THzMax/2,omega0+THzMax/2,size)\n",
    "OTHz = np.linspace(0.,THzMax,size)\n",
    "step = np.mean(np.diff(OTHz))\n",
    "\n",
    "t0 = time.time()\n",
    "n_THz = np.exp(np.log(1.25)/75*(OTHz))+1.32\n",
    "alpha = np.exp(6e-3*OTHz)+1\n",
    "delta_k = (OTHz/c)*(n_THz-n_group)\n",
    "Eopt = np.exp(-4*np.log(2)*((omega-omega0)/w)**2)\n",
    "pNL = pNL_THz(Eopt)\n",
    "\n",
    "def ODE(z, E):\n",
    "     return (-1j*miu0*OTHz*c/2/n_THz)*deff*epsilon0*pNL*step*np.exp(1j*delta_k*z) - 0.5*alpha*E\n",
    "\n",
    "z0 = 0 # initial x\n",
    "E0 = 0 # initial y\n",
    "z1 = 1 # end point of x\n",
    "vz = np.zeros(num+1)\n",
    "vE = np.zeros((num+1,1000),dtype=complex)\n",
    "h = (z1-z0)/num\n",
    "vz[0] = z = z0\n",
    "vE[0,0] = E = E0\n",
    "\n",
    "for i in range(1,num+1):\n",
    "    k1 = h*ODE(z,E)\n",
    "    k2 = h*ODE(z+0.5*h, E+0.5*k1)\n",
    "    k3 = h*ODE(z+0.5*h, E+0.5*k2)\n",
    "    k4 = h*ODE(z+h, E+k3)\n",
    "    vz[i] = z = z0 + i * h\n",
    "    vE[i,:] = E = E + (k1+2*k2+2*k3+k4) / 6\n",
    "\n",
    "print(time.time()-t0)"
   ]
  },
  {
   "cell_type": "code",
   "execution_count": 4,
   "metadata": {
    "collapsed": false
   },
   "outputs": [
    {
     "data": {
      "text/plain": [
       "<matplotlib.legend.Legend at 0x10af982e8>"
      ]
     },
     "execution_count": 4,
     "metadata": {},
     "output_type": "execute_result"
    },
    {
     "data": {
      "image/png": "[encoded data removed]",
      "text/plain": [
       "<matplotlib.figure.Figure at 0x103e98710>"
      ]
     },
     "metadata": {},
     "output_type": "display_data"
    }
   ],
   "source": [
    "\"\"\" Plotting - waveform \"\"\"\n",
    "fig,ax=plt.subplots(figsize=(10,8))\n",
    "# for i in [1,10,50,100,500,900]:\n",
    "# for i in [1,5,10]:\n",
    "# for i in [1]:\n",
    "for i in [100, 500, 900]:\n",
    "    length=len(vE[:,i])\n",
    "    Ec = np.zeros(length*2-1,dtype=complex)\n",
    "    loc=i\n",
    "    n_THz = 5.65\n",
    "    phase=np.exp(1j*vz[i]*n_THz*OTHz/c)\n",
    "    \n",
    "    Ec[:length-1] = (vE[loc,:])*phase\n",
    "    Ec[length:] = np.flipud(np.conjugate(Ec[1:length]))\n",
    "#     Ec[length:] = np.flipud(Ec[1:length])\n",
    "    \n",
    "#     Ec=np.conjugate(Ec)\n",
    "    \n",
    "    wf = np.real(np.fft.ifft((Ec)))\n",
    "    #wfi = np.imag(np.fft.ifft(Ec))\n",
    "    \n",
    "    loc = np.amin(np.where(wf==np.amax(wf)))\n",
    "    wf = np.roll(wf,loc)\n",
    "    \n",
    "    ax.plot(np.linspace(0,1/(2*OTHz[1]/2/pi),wf.size),np.fft.fftshift(wf),label=vz[i])\n",
    "    #ax.plot(np.linspace(0,1/(2*OTHz[1]/2/pi),wf.size),np.fft.fftshift(wfi),label=loc)\n",
    "#     ax.set_xlim(length-length/10,length+length/10)\n",
    "    #print(np.mean(wfi))\n",
    "ax.legend()\n",
    "#ax.axhline(0)\n",
    "#ax.set_xlim(10,20)\n",
    "# ax.set_ylim(-0.1,0.1)"
   ]
  },
  {
   "cell_type": "code",
   "execution_count": null,
   "metadata": {
    "collapsed": true
   },
   "outputs": [],
   "source": []
  }
 ],
 "metadata": {
  "anaconda-cloud": {},
  "kernelspec": {
   "display_name": "Python [Root]",
   "language": "python",
   "name": "Python [Root]"
  },
  "language_info": {
   "codemirror_mode": {
    "name": "ipython",
    "version": 3
   },
   "file_extension": ".py",
   "mimetype": "text/x-python",
   "name": "python",
   "nbconvert_exporter": "python",
   "pygments_lexer": "ipython3",
   "version": "3.5.2"
  }
 },
 "nbformat": 4,
 "nbformat_minor": 0
}
