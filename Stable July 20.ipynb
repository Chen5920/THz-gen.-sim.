{
 "cells": [
  {
   "cell_type": "code",
   "execution_count": 1,
   "metadata": {
    "collapsed": true
   },
   "outputs": [],
   "source": [
    "import numpy as np\n",
    "import scipy.integrate as integrate\n",
    "import matplotlib.pyplot as plt\n",
    "import time as time\n",
    "\n",
    "% matplotlib inline"
   ]
  },
  {
   "cell_type": "code",
   "execution_count": 4,
   "metadata": {
    "collapsed": true
   },
   "outputs": [],
   "source": [
    "\"\"\" RK 4 \"\"\"\n",
    "def rk4(f, x0, y0, x1, n):\n",
    "    vx = [0] * (n + 1)\n",
    "    vy = [0] * (n + 1)\n",
    "    h = (x1 - x0) / float(n)\n",
    "    vx[0] = x = x0\n",
    "    vy[0] = y = y0\n",
    "    for i in range(1, n + 1):\n",
    "        k1 = h * f(x, y)\n",
    "        k2 = h * f(x + 0.5 * h, y + 0.5 * k1)\n",
    "        k3 = h * f(x + 0.5 * h, y + 0.5 * k2)\n",
    "        k4 = h * f(x + h, y + k3)\n",
    "        vx[i] = x = x0 + i * h\n",
    "        vy[i] = y = y + (k1 + k2 + k2 + k3 + k3 + k4) / 6\n",
    "    return vx, vy\n",
    "\n",
    "def pNL_THz(omega,Eopt):\n",
    "    size=Eopt.size\n",
    "    pNL=np.empty(size)\n",
    "    pNL[0]=np.dot(Eopt,Eopt)\n",
    "    for i in range(1,size):\n",
    "        pNL[i]=np.dot(Eopt[:-i],Eopt[i:])\n",
    "    return 2*pNL*(omega[1]-omega[0])\n",
    "\n",
    "# vx - an array for x variable, vy - an array for f(x), x0 - inital x, y0 - f(x0), x1 - end point for x, n - number of points"
   ]
  },
  {
   "cell_type": "code",
   "execution_count": 5,
   "metadata": {
    "collapsed": false
   },
   "outputs": [
    {
     "name": "stdout",
     "output_type": "stream",
     "text": [
      "13.081485986709595\n"
     ]
    }
   ],
   "source": [
    "\"\"\" Some constants\"\"\"\n",
    "\n",
    "deff = 68.5 #pm/V\n",
    "epsilon0 = 8.85e-12 # F/m\n",
    "#n_THz = 3.2# https://refractiveindex.info/?shelf=main&book=ZnTe&page=Marple\n",
    "n_group = 3.0\n",
    "bandwidth = 10e-6 # mm\n",
    "c = 0.3\n",
    "pi = np.pi\n",
    "center_wavelength = 800e-6\n",
    "\n",
    "\"\"\"Multiple THz frequency (0.1 ~ 300) -- for loop\"\"\"\n",
    "\n",
    "OTHz = 0.1*2*pi\n",
    "THzMax=80\n",
    "size = 1000\n",
    "OTHz = np.linspace(0.,THzMax,size)\n",
    "num = 1000\n",
    "\n",
    "# Define the ODE\n",
    "omega0 = c*2*pi/center_wavelength\n",
    "w = c*2*pi/(center_wavelength-bandwidth/2)-c*2*pi/(center_wavelength+bandwidth/2)\n",
    "omega = np.linspace(omega0-THzMax/2,omega0+THzMax/2,size)\n",
    "\n",
    "P = np.zeros([size,1])\n",
    "K = np.zeros([size,1])\n",
    "E = np.zeros([size, num])\n",
    "Er = np.zeros([size, num])\n",
    "Ei = np.zeros([size, num])\n",
    "\n",
    "t0=time.time()\n",
    "\n",
    "def optE(omega, omega0, w):\n",
    "    return np.exp(-4*np.log(2)*((omega-omega0)/w)**2)\n",
    "pNL = pNL_THz(omega,optE(omega,omega0,w))\n",
    "\n",
    "for i in range(size):\n",
    "    THz = OTHz[i]\n",
    "    n_THz = np.exp(np.log(1.25)/75*(THz))+5.65\n",
    "    #n_THz = 3.2\n",
    "    #alpha = np.exp(6e-3*THz)+1\n",
    "    alpha = 1\n",
    "    delta_k = (THz/c)*(n_THz-n_group)\n",
    "    #delta_k = 0\n",
    "    def ODE(z, ETHz):\n",
    "        return (-1j*THz*c/2/n_THz)*pNL[i]*np.exp(1j*delta_k*z) - 0.5*alpha*ETHz\n",
    "    z, e = rk4(ODE, 0,0,8.5,num-1)\n",
    "    \n",
    "    Er[i,:] = np.real(e)\n",
    "    Ei[i,:] = np.imag(e)\n",
    "    E[i,:] = np.absolute(e)\n",
    "#     P[i] = pNL\n",
    "    K[i] = delta_k\n",
    "print(time.time()-t0)\n",
    "\n",
    "# Er - 2D array for real part, Ei - 2D array for imaginary part, E - 2D array for amplitude, P - 1D array for pNL, K - 1D array for delta_k"
   ]
  },
  {
   "cell_type": "code",
   "execution_count": null,
   "metadata": {
    "collapsed": true
   },
   "outputs": [],
   "source": []
  }
 ],
 "metadata": {
  "anaconda-cloud": {},
  "kernelspec": {
   "display_name": "Python [Root]",
   "language": "python",
   "name": "Python [Root]"
  },
  "language_info": {
   "codemirror_mode": {
    "name": "ipython",
    "version": 3
   },
   "file_extension": ".py",
   "mimetype": "text/x-python",
   "name": "python",
   "nbconvert_exporter": "python",
   "pygments_lexer": "ipython3",
   "version": "3.5.2"
  }
 },
 "nbformat": 4,
 "nbformat_minor": 2
}
